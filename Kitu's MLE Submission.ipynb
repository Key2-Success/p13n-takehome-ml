{
 "cells": [
  {
   "cell_type": "markdown",
   "metadata": {},
   "source": [
    "# Hello\n",
    "Hi, O'Reilly Media team! I genuinely enjoyed working through this project, and I'm thoroughly\n",
    "eager to help unravel data using state-of-the art ML + optimization techniques.\n",
    "\n",
    "Here's an outline of my Python script:\n",
    "    1. Cleaning dataset\n",
    "    2. Visualizing dataset\n",
    "    3. Cross Validation among 3 ML classifiers\n",
    "    4. Model Selection\n",
    "    5. Predicting probability of ad clicked\n",
    "\n",
    "Kindly,\n",
    "Kitu Komya"
   ]
  },
  {
   "cell_type": "markdown",
   "metadata": {},
   "source": [
    "# 1. Cleaning dataset\n",
    "Goal is to prepare dataset for ML classifier by factorizing variables and expanding the date-time variable.\n"
   ]
  },
  {
   "cell_type": "code",
   "execution_count": 1,
   "metadata": {},
   "outputs": [],
   "source": [
    "import pandas as pd"
   ]
  },
  {
   "cell_type": "code",
   "execution_count": 7,
   "metadata": {},
   "outputs": [],
   "source": [
    "# reading in data\n",
    "import os\n",
    "\n",
    "os.chdir('/Users/Mac/Downloads/p13-takehome-ml')\n",
    "sampled_test = pd.read_csv(\"sampled_test.csv\", header = None)\n",
    "sampled_training = pd.read_csv(\"sampled_training.csv\", header = None)"
   ]
  },
  {
   "cell_type": "code",
   "execution_count": 8,
   "metadata": {},
   "outputs": [],
   "source": [
    "# rename headers\n",
    "sampled_training.columns = ['id', 'click', 'hour', 'C1', 'banner_pos', 'site_id',\n",
    "                            'site_domain', 'site_category', 'app_id', 'app_domain',\n",
    "                            'app_category', 'device_id', 'device_ip',\n",
    "                            'device_model', 'device_type', 'device_conn_type', \n",
    "                            'C14', 'C15', 'C16', 'C17', 'C18', 'C19', 'C20', 'C21']\n",
    "\n",
    "sampled_test.columns = ['id', 'hour', 'C1', 'banner_pos', 'site_id',\n",
    "                            'site_domain', 'site_category', 'app_id', 'app_domain',\n",
    "                            'app_category', 'device_id', 'device_ip',\n",
    "                            'device_model', 'device_type', 'device_conn_type', \n",
    "                            'C14', 'C15', 'C16', 'C17', 'C18', 'C19', 'C20', 'C21']"
   ]
  },
  {
   "cell_type": "code",
   "execution_count": 9,
   "metadata": {},
   "outputs": [
    {
     "name": "stdout",
     "output_type": "stream",
     "text": [
      "id                  uint64\n",
      "click                int64\n",
      "C1                   int64\n",
      "banner_pos           int64\n",
      "site_id              int64\n",
      "site_domain          int64\n",
      "site_category        int64\n",
      "app_id               int64\n",
      "app_domain           int64\n",
      "app_category         int64\n",
      "device_id            int64\n",
      "device_ip            int64\n",
      "device_model         int64\n",
      "device_type          int64\n",
      "device_conn_type     int64\n",
      "C14                  int64\n",
      "C15                  int64\n",
      "C16                  int64\n",
      "C17                  int64\n",
      "C18                  int64\n",
      "C19                  int64\n",
      "C20                  int64\n",
      "C21                  int64\n",
      "real_hour            int64\n",
      "weekday              int64\n",
      "dtype: object\n",
      "id                  uint64\n",
      "C1                   int64\n",
      "banner_pos           int64\n",
      "site_id              int64\n",
      "site_domain          int64\n",
      "site_category        int64\n",
      "app_id               int64\n",
      "app_domain           int64\n",
      "app_category         int64\n",
      "device_id            int64\n",
      "device_ip            int64\n",
      "device_model         int64\n",
      "device_type          int64\n",
      "device_conn_type     int64\n",
      "C14                  int64\n",
      "C15                  int64\n",
      "C16                  int64\n",
      "C17                  int64\n",
      "C18                  int64\n",
      "C19                  int64\n",
      "C20                  int64\n",
      "C21                  int64\n",
      "real_hour            int64\n",
      "weekday              int64\n",
      "dtype: object\n"
     ]
    }
   ],
   "source": [
    "# loop through both datasets to simplify data cleaning\n",
    "datasets = [sampled_training, sampled_test]\n",
    "\n",
    "for sets in datasets:\n",
    "    # extract day and hour by first reassigning to datetime variable\n",
    "    sets['hour'] = pd.to_datetime(sets['hour'], format = '%y%m%d%H')\n",
    "    sets['real_hour'] = sets['hour'].dt.hour\n",
    "    sets['weekday'] = sets['hour'].dt.day_name()\n",
    "    del sets['hour']\n",
    "\n",
    "    # encode variables to category by refactorizing to a distinct number\n",
    "    col_names = list(sets) # create list of column names\n",
    "    col_names.remove('id') # keep id unchanged\n",
    "    for col in col_names: # loop through columns to change variable type\n",
    "        sets[col] = pd.factorize(sets[col])[0]\n",
    "    \n",
    "    # ensure all data types are in good form\n",
    "    print(sets.dtypes)"
   ]
  },
  {
   "cell_type": "code",
   "execution_count": 10,
   "metadata": {},
   "outputs": [],
   "source": [
    "# delete unnecessary data  \n",
    "del datasets, sets"
   ]
  },
  {
   "cell_type": "markdown",
   "metadata": {},
   "source": [
    "# 2. Visualizing dataset\n",
    "Goal is to understand what our data looks like and to glean some intuition on how the classifier may work.\n"
   ]
  },
  {
   "cell_type": "code",
   "execution_count": 13,
   "metadata": {},
   "outputs": [
    {
     "data": {
      "image/png": "[encoded data removed]",
      "text/plain": [
       "<Figure size 432x288 with 1 Axes>"
      ]
     },
     "metadata": {
      "needs_background": "light"
     },
     "output_type": "display_data"
    }
   ],
   "source": [
    "# explore click-rate\n",
    "import seaborn as sns\n",
    "import matplotlib.pyplot as plt\n",
    "sns.countplot(x = \"click\", data = sampled_training)\n",
    "plt.show()"
   ]
  },
  {
   "cell_type": "markdown",
   "metadata": {},
   "source": [
    "Ads are not clicked on most of the time! (prior probability)"
   ]
  },
  {
   "cell_type": "code",
   "execution_count": 12,
   "metadata": {},
   "outputs": [
    {
     "data": {
      "text/plain": [
       "0    0.829729\n",
       "1    0.170271\n",
       "Name: click, dtype: float64"
      ]
     },
     "execution_count": 12,
     "metadata": {},
     "output_type": "execute_result"
    }
   ],
   "source": [
    "# look into proportions\n",
    "sampled_training['click'].value_counts()/len(sampled_training)"
   ]
  },
  {
   "cell_type": "markdown",
   "metadata": {},
   "source": [
    "An ad is clicked on only 17% of the time. We should use f1-score instead of accuracy to measure success since imbalanced classes are present."
   ]
  },
  {
   "cell_type": "markdown",
   "metadata": {},
   "source": [
    "# 3. Cross Validation\n",
    "Goal is to use cross-validation to quantify the f1-score of each ML classifier in order to select one."
   ]
  },
  {
   "cell_type": "code",
   "execution_count": 14,
   "metadata": {},
   "outputs": [],
   "source": [
    "# import models\n",
    "from sklearn.naive_bayes import MultinomialNB\n",
    "from sklearn import tree\n",
    "from sklearn.linear_model import LogisticRegression\n",
    "from sklearn.model_selection import cross_val_score"
   ]
  },
  {
   "cell_type": "code",
   "execution_count": 15,
   "metadata": {},
   "outputs": [],
   "source": [
    "# create training data without id or predicting variable\n",
    "train_me = sampled_training.drop(['id', 'click'], axis = 1)"
   ]
  },
  {
   "cell_type": "code",
   "execution_count": 16,
   "metadata": {},
   "outputs": [],
   "source": [
    "# choose models whose assumptions are met by our (transformed) categorical + numerical dataset\n",
    "model_list = []\n",
    "model_list.append((\"Multinomial Naive Bayes\", MultinomialNB()))\n",
    "model_list.append((\"Decision Tree\", tree.DecisionTreeClassifier(criterion = \"gini\")))\n",
    "model_list.append((\"Logistic Regression\", LogisticRegression()))"
   ]
  },
  {
   "cell_type": "code",
   "execution_count": 17,
   "metadata": {},
   "outputs": [
    {
     "name": "stderr",
     "output_type": "stream",
     "text": [
      "/Users/Mac/anaconda3/lib/python3.7/site-packages/sklearn/linear_model/logistic.py:433: FutureWarning: Default solver will be changed to 'lbfgs' in 0.22. Specify a solver to silence this warning.\n",
      "  FutureWarning)\n",
      "/Users/Mac/anaconda3/lib/python3.7/site-packages/sklearn/metrics/classification.py:1143: UndefinedMetricWarning: F-score is ill-defined and being set to 0.0 in labels with no predicted samples.\n",
      "  'precision', 'predicted', average, warn_for)\n",
      "/Users/Mac/anaconda3/lib/python3.7/site-packages/sklearn/linear_model/logistic.py:433: FutureWarning: Default solver will be changed to 'lbfgs' in 0.22. Specify a solver to silence this warning.\n",
      "  FutureWarning)\n",
      "/Users/Mac/anaconda3/lib/python3.7/site-packages/sklearn/metrics/classification.py:1143: UndefinedMetricWarning: F-score is ill-defined and being set to 0.0 in labels with no predicted samples.\n",
      "  'precision', 'predicted', average, warn_for)\n",
      "/Users/Mac/anaconda3/lib/python3.7/site-packages/sklearn/linear_model/logistic.py:433: FutureWarning: Default solver will be changed to 'lbfgs' in 0.22. Specify a solver to silence this warning.\n",
      "  FutureWarning)\n",
      "/Users/Mac/anaconda3/lib/python3.7/site-packages/sklearn/metrics/classification.py:1143: UndefinedMetricWarning: F-score is ill-defined and being set to 0.0 in labels with no predicted samples.\n",
      "  'precision', 'predicted', average, warn_for)\n",
      "/Users/Mac/anaconda3/lib/python3.7/site-packages/sklearn/linear_model/logistic.py:433: FutureWarning: Default solver will be changed to 'lbfgs' in 0.22. Specify a solver to silence this warning.\n",
      "  FutureWarning)\n",
      "/Users/Mac/anaconda3/lib/python3.7/site-packages/sklearn/metrics/classification.py:1143: UndefinedMetricWarning: F-score is ill-defined and being set to 0.0 in labels with no predicted samples.\n",
      "  'precision', 'predicted', average, warn_for)\n",
      "/Users/Mac/anaconda3/lib/python3.7/site-packages/sklearn/linear_model/logistic.py:433: FutureWarning: Default solver will be changed to 'lbfgs' in 0.22. Specify a solver to silence this warning.\n",
      "  FutureWarning)\n",
      "/Users/Mac/anaconda3/lib/python3.7/site-packages/sklearn/metrics/classification.py:1143: UndefinedMetricWarning: F-score is ill-defined and being set to 0.0 in labels with no predicted samples.\n",
      "  'precision', 'predicted', average, warn_for)\n"
     ]
    }
   ],
   "source": [
    "# evaluate each model's f1-score\n",
    "results = []\n",
    "names = []\n",
    "for name, model in model_list:\n",
    "\tcv_results = cross_val_score(model, train_me, sampled_training['click'], cv = 5, scoring = \"f1_macro\")\n",
    "\tresults.append(cv_results)\n",
    "\tnames.append(name)"
   ]
  },
  {
   "cell_type": "markdown",
   "metadata": {},
   "source": [
    "# 4. Model Selection\n",
    "Goal is to choose an ML classifier that works best on our dataset by comparing different algorithms."
   ]
  },
  {
   "cell_type": "code",
   "execution_count": 34,
   "metadata": {},
   "outputs": [
    {
     "data": {
      "image/png": "[encoded data removed]",
      "text/plain": [
       "<Figure size 432x288 with 1 Axes>"
      ]
     },
     "metadata": {
      "needs_background": "light"
     },
     "output_type": "display_data"
    }
   ],
   "source": [
    "# compare algorithms' f1-score visually via boxplot distributions\n",
    "fig = plt.figure()\n",
    "fig.suptitle(\"Comparing f1-scores of Various ML Classifiers\")\n",
    "ax = fig.add_subplot(111)\n",
    "plt.boxplot(results)\n",
    "ax.set_xticklabels(names)\n",
    "plt.show()"
   ]
  },
  {
   "cell_type": "markdown",
   "metadata": {},
   "source": [
    "These scores are not bad in comparison to our prior baseline probability of 0.17. Let's use the tree model! It's explainable, meets our assumptions, and has the highest/consistent f1-score."
   ]
  },
  {
   "cell_type": "code",
   "execution_count": 19,
   "metadata": {},
   "outputs": [],
   "source": [
    "# create basic tree model\n",
    "model = tree.DecisionTreeClassifier(criterion = \"gini\")"
   ]
  },
  {
   "cell_type": "code",
   "execution_count": 20,
   "metadata": {},
   "outputs": [],
   "source": [
    "# split data into 80/20 to verify model selection\n",
    "from sklearn.model_selection import train_test_split\n",
    "x_train, x_test, y_train, y_test = train_test_split(train_me, sampled_training['click'], \n",
    "                                                    random_state = 0, test_size = 0.2)"
   ]
  },
  {
   "cell_type": "code",
   "execution_count": 21,
   "metadata": {},
   "outputs": [
    {
     "data": {
      "text/plain": [
       "DecisionTreeClassifier(class_weight=None, criterion='gini', max_depth=None,\n",
       "            max_features=None, max_leaf_nodes=None,\n",
       "            min_impurity_decrease=0.0, min_impurity_split=None,\n",
       "            min_samples_leaf=1, min_samples_split=2,\n",
       "            min_weight_fraction_leaf=0.0, presort=False, random_state=None,\n",
       "            splitter='best')"
      ]
     },
     "execution_count": 21,
     "metadata": {},
     "output_type": "execute_result"
    }
   ],
   "source": [
    "# fit model on training data\n",
    "model.fit(x_train, y_train)"
   ]
  },
  {
   "cell_type": "code",
   "execution_count": 22,
   "metadata": {},
   "outputs": [],
   "source": [
    "# predict if ad will be clicked or not\n",
    "y_pred = model.predict(x_test)"
   ]
  },
  {
   "cell_type": "code",
   "execution_count": 23,
   "metadata": {},
   "outputs": [
    {
     "name": "stdout",
     "output_type": "stream",
     "text": [
      "              precision    recall  f1-score   support\n",
      "\n",
      "           0       0.87      0.88      0.87    139923\n",
      "           1       0.37      0.34      0.35     28778\n",
      "\n",
      "   micro avg       0.79      0.79      0.79    168701\n",
      "   macro avg       0.62      0.61      0.61    168701\n",
      "weighted avg       0.78      0.79      0.79    168701\n",
      "\n"
     ]
    }
   ],
   "source": [
    "# measure precision and f1 score to ensure satisfiable\n",
    "from sklearn import metrics\n",
    "print(metrics.classification_report(y_test, y_pred))"
   ]
  },
  {
   "cell_type": "markdown",
   "metadata": {},
   "source": [
    "These values look good, especially the micro averages (this value is important since it takes into account the imbalance of classes)! Let's use our tree model on our real testing dataset."
   ]
  },
  {
   "cell_type": "markdown",
   "metadata": {},
   "source": [
    "# 5. Predicting probability of ad clicked\n",
    "Goal is to calculate the probability that an ad will be clicked using our chosen ML classifier (decision tree)."
   ]
  },
  {
   "cell_type": "code",
   "execution_count": 24,
   "metadata": {},
   "outputs": [],
   "source": [
    "# new dataframe to store id and probability score\n",
    "prob_of_ad = pd.DataFrame(columns = ['id', 'prob_of_click'])\n",
    "prob_of_ad['id'] = sampled_test['id']"
   ]
  },
  {
   "cell_type": "code",
   "execution_count": 25,
   "metadata": {},
   "outputs": [],
   "source": [
    "# remove id since it's not a feature\n",
    "sampled_test = sampled_test.drop('id', axis = 1)"
   ]
  },
  {
   "cell_type": "code",
   "execution_count": 26,
   "metadata": {},
   "outputs": [],
   "source": [
    "# fit model and store probability of ad being clicked on testing data into list\n",
    "prob = []\n",
    "for row in sampled_test.itertuples():\n",
    "    #print(model.predict_proba(sampled_test)[row.Index][1]) # to check values since predict_proba is a very slow function\n",
    "    prob.append(model.predict_proba(sampled_test)[row.Index][1])"
   ]
  },
  {
   "cell_type": "code",
   "execution_count": 27,
   "metadata": {},
   "outputs": [],
   "source": [
    "# append list to dataframe\n",
    "prob_of_ad['prob_of_click'] = pd.Series(prob).values"
   ]
  },
  {
   "cell_type": "code",
   "execution_count": 28,
   "metadata": {},
   "outputs": [
    {
     "data": {
      "text/plain": [
       "0.27577469672378135"
      ]
     },
     "execution_count": 28,
     "metadata": {},
     "output_type": "execute_result"
    }
   ],
   "source": [
    "# verify that algorithm is somewhat not non-sensical (should be near 0.17)\n",
    "prob_of_ad['prob_of_click'].mean()"
   ]
  },
  {
   "cell_type": "markdown",
   "metadata": {},
   "source": [
    "Wow, our average probability of an ad getting clicked on is 0.236! That's not bad at all, since only 0.17 of ads are clicked on to begin with."
   ]
  },
  {
   "cell_type": "code",
   "execution_count": 29,
   "metadata": {},
   "outputs": [],
   "source": [
    "# write dataframe to csv file\n",
    "prob_of_ad.to_csv(\"predictions.csv\") "
   ]
  },
  {
   "cell_type": "markdown",
   "metadata": {},
   "source": [
    "We see that the probability values are categorized (0, 0.333, 0.5, 0.666, 1, etc), \n",
    "which makes sense, given our decision tree implementation."
   ]
  }
 ],
 "metadata": {
  "kernelspec": {
   "display_name": "Python 3",
   "language": "python",
   "name": "python3"
  },
  "language_info": {
   "codemirror_mode": {
    "name": "ipython",
    "version": 3
   },
   "file_extension": ".py",
   "mimetype": "text/x-python",
   "name": "python",
   "nbconvert_exporter": "python",
   "pygments_lexer": "ipython3",
   "version": "3.7.1"
  }
 },
 "nbformat": 4,
 "nbformat_minor": 2
}
